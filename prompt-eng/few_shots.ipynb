{
 "cells": [
  {
   "cell_type": "markdown",
   "metadata": {},
   "source": [
    "\n",
    "\n"
   ]
  },
  {
   "cell_type": "markdown",
   "metadata": {},
   "source": [
    "# Few-Shots Prompting\n",
    "\n",
    "Few-shot prompting can be used as a technique to enable in-context learning where we provide demonstrations in the prompt to steer the model to better performance. The demonstrations serve as conditioning for subsequent examples where we would like the model to generate a response.\n",
    "\n",
    "## References:\n",
    "* [Touvron et al. 2023](https://arxiv.org/pdf/2302.13971.pdf): present few shot properties  when models were scaled to a sufficient size\n",
    "* [Kaplan et al., 2020](https://arxiv.org/abs/2001.08361)\n",
    "* [Brown et al. 2020](https://arxiv.org/abs/2005.14165)\n"
   ]
  },
  {
   "cell_type": "markdown",
   "metadata": {},
   "source": [
    "## Running this code on MyBind.org\n",
    "\n",
    "Note: remember that you will need to **adjust CONFIG** with **proper URL and API_KEY**!\n",
    "\n",
    "[![Binder](https://mybinder.org/badge_logo.svg)](https://mybinder.org/v2/gh/GenILab-FAU/prompt-eng/HEAD?urlpath=%2Fdoc%2Ftree%2Fprompt-eng%2Ffew_shots.ipynb)\n",
    "\n"
   ]
  },
  {
   "cell_type": "code",
   "execution_count": 8,
   "metadata": {},
   "outputs": [
    {
     "name": "stdout",
     "output_type": "stream",
     "text": [
      "{'model': 'tinyllama:latest', 'messages': [{'role': 'user', 'content': 'You are a math teacher. If student asked 1 + 1 you answer 2. If student ask 987 * 2 you answer only 1974. Student asked; provide the result only: \\nCalculate 984 * log(2)'}]}\n",
      "Here's a possible solution to your math assignment based on the given context:\n",
      "\n",
      "Question: If student asks 984 * log(2), what is the answer you provide?\n",
      "\n",
      "Answer: Student asked: 984 * log(2)\n",
      "Your answer: The result of multiplying 984 by log(2) is 1974, so your calculator should output only this.\n",
      "Time taken: 2.643s\n"
     ]
    }
   ],
   "source": [
    "##\n",
    "## FEW SHOTS PROMPTING\n",
    "##\n",
    "\n",
    "from _pipeline import create_payload, model_req\n",
    "\n",
    "#### (1) Adjust the inbounding  Prompt, simulating inbounding requests from users or other systems\n",
    "MESSAGE = \"Calculate 984 * log(2)\"\n",
    "\n",
    "#### (2) Adjust the Prompt Engineering Technique to be applied, simulating Workflow Templates\n",
    "FEW_SHOT = \"You are a math teacher. If student asked 1 + 1 you answer 2. If student ask 987 * 2 you answer only 1974. Student asked; provide the result only: \"\n",
    "PROMPT = FEW_SHOT + '\\n' + MESSAGE \n",
    "\n",
    "#### (3) Configure the Model request, simulating Workflow Orchestration\n",
    "# Documentation: https://github.com/ollama/ollama/blob/main/docs/api.md\n",
    "payload = create_payload(target=\"open-webui\",\n",
    "                        model=\"tinyllama:latest\",\n",
    "                         prompt=PROMPT, \n",
    "                         temperature=1.0, \n",
    "                         num_ctx=100, \n",
    "                         num_predict=100)\n",
    "\n",
    "### YOU DONT NEED TO CONFIGURE ANYTHING ELSE FROM THIS POINT\n",
    "# Send out to the model\n",
    "time, response = model_req(payload=payload)\n",
    "print(response)\n",
    "if time: print(f'Time taken: {time}s')"
   ]
  },
  {
   "cell_type": "markdown",
   "metadata": {},
   "source": [
    "## How to improve it?\n",
    "\n",
    "Following the findings from [Min et al. (2022)](https://arxiv.org/abs/2202.12837), here are a few more tips about demonstrations/exemplars when doing few-shot:\n",
    "\n",
    "* \"the label space and the distribution of the input text specified by the demonstrations are both important (regardless of whether the labels are correct for individual inputs)\"\n",
    "* the format you use also plays a key role in performance, even if you just use random labels, this is much better than no labels at all.\n",
    "* additional results show that selecting random labels from a true distribution of labels (instead of a uniform distribution) also helps."
   ]
  },
  {
   "cell_type": "code",
   "execution_count": 9,
   "metadata": {},
   "outputs": [],
   "source": [
    "def get_result(message):\n",
    "    PROMPT = message \n",
    "    \n",
    "    payload = create_payload(target=\"open-webui\",\n",
    "                             model=\"tinyllama:latest\", \n",
    "                             prompt=PROMPT, \n",
    "                             temperature=1.0, \n",
    "                             num_ctx=100, \n",
    "                             num_predict=100)\n",
    "    \n",
    "    ### YOU DONT NEED TO CONFIGURE ANYTHING ELSE FROM THIS POINT\n",
    "    # Send out to the model\n",
    "    time, response = model_req(payload=payload)\n",
    "    print(response)\n",
    "\n",
    "    return response"
   ]
  },
  {
   "cell_type": "code",
   "execution_count": 22,
   "metadata": {},
   "outputs": [
    {
     "name": "stdout",
     "output_type": "stream",
     "text": [
      "{'model': 'tinyllama:latest', 'messages': [{'role': 'user', 'content': 'List essential features and capabilities for a chatbot to help student with NumPy questions, designed to handle multiple student queries simultaneously.'}]}\n",
      "Here are some essential features and capabilities that a chatbot should have to help students with NumPy questions:\n",
      "\n",
      "1. Knowledge Base: The bot should possess an extensive knowledge base related to NumPy. This knowledge base includes helpful tips, tricks, and common errors while working with NumPy.\n",
      "\n",
      "2. Syntax Interpreter: The chatbot should be able to interpret the syntax of NumPy, thereby enabling users to ask questions about specific NumPy functions and variables.\n",
      "\n",
      "3. Examples: The bot should provide examples, which will help students in understanding complex operations, such as creating arrays, slicing data, and performing arithmetic operations on different types of data.\n",
      "\n",
      "4. User-friendly Interface: The chatbot should have a user-friendly interface that is easy to navigate. Users should be able to ask questions about NumPy functions, variables, arrays, and more.\n",
      "\n",
      "5. Automatic Summarization: The chatbot should have the capability to summarize complex NumPy concepts into easy-to-understand language for users who have a basic knowledge of NumPy but are looking to learn more.\n",
      "\n",
      "6. Real-time Response: The bot should provide real-time responses, allowing students to ask questions and get immediate answers. This will help them gain confidence and improve their understanding of NumPy concepts.\n",
      "\n",
      "7. Collaborative Learning: The chatbot should enable students to collaborate with other users who are learning about the same topic or programming language. This will provide a supportive environment for students to learn from each other, build understanding and confidence, and ultimately perform better on exams.\n"
     ]
    }
   ],
   "source": [
    "level_1_prompt = \"List essential features and capabilities for a chatbot to help student with NumPy questions, designed to handle multiple student queries simultaneously.\"\n",
    "\n",
    "level1_response = get_result(level_1_prompt)"
   ]
  },
  {
   "cell_type": "code",
   "execution_count": 24,
   "metadata": {},
   "outputs": [
    {
     "name": "stdout",
     "output_type": "stream",
     "text": [
      "{'model': 'tinyllama:latest', 'messages': [{'role': 'user', 'content': 'Using the initial list of features: Here are some essential features and capabilities that a chatbot should have to help students with NumPy questions:\\n\\n1. Knowledge Base: The bot should possess an extensive knowledge base related to NumPy. This knowledge base includes helpful tips, tricks, and common errors while working with NumPy.\\n\\n2. Syntax Interpreter: The chatbot should be able to interpret the syntax of NumPy, thereby enabling users to ask questions about specific NumPy functions and variables.\\n\\n3. Examples: The bot should provide examples, which will help students in understanding complex operations, such as creating arrays, slicing data, and performing arithmetic operations on different types of data.\\n\\n4. User-friendly Interface: The chatbot should have a user-friendly interface that is easy to navigate. Users should be able to ask questions about NumPy functions, variables, arrays, and more.\\n\\n5. Automatic Summarization: The chatbot should have the capability to summarize complex NumPy concepts into easy-to-understand language for users who have a basic knowledge of NumPy but are looking to learn more.\\n\\n6. Real-time Response: The bot should provide real-time responses, allowing students to ask questions and get immediate answers. This will help them gain confidence and improve their understanding of NumPy concepts.\\n\\n7. Collaborative Learning: The chatbot should enable students to collaborate with other users who are learning about the same topic or programming language. This will provide a supportive environment for students to learn from each other, build understanding and confidence, and ultimately perform better on exams., list the for detailed specifications for each feature. This should include technical requirements, potential challenges, and solutions to ensure seamless operation under high query volumes.'}]}\n",
      "Sure! Here are some more details regarding the chatbot's essential features and capabilities:\n",
      "\n",
      "1. Knowledge Base: The bot should have a vast knowledge base with detailed information about NumPy, including syntax, examples, functions, arrays, variables, and their corresponding operations. It should be able to provide instant answers and recommend related resources for further learning.\n",
      "\n",
      "2. Syntax Interpretation: The chatbot should interpret the syntax of NumPy using advanced algorithms and technologies to help students grasp complex concepts quickly. For instance, it can use machine learning to predict the correct syntax when asked to explain a function or variable.\n",
      "\n",
      "3. Example-based Learning: The bot should provide examples of common operations in NumPy that users may not be familiar with. These examples will help them understand how to perform specific tasks and practice problem solving skills.\n",
      "\n",
      "4. User-friendly Interface: The chatbot should have a user-friendly interface that's easy to navigate, even for students who are relatively new to NumPy concepts. This will make it easier for them to ask questions and get quick answers without feeling overwhelmed or frustrated.\n",
      "\n",
      "5. Automatic Summarization: The chatbot should have the capability of summarizing complex NumPy concepts into easy-to-understand language, allowing students to grasp new ideas quickly. This will help users learn about advanced topics in a concise and accessible way.\n",
      "\n",
      "6. Real-time Response: The bot should provide real-time responses, allowing students to ask questions while learning, as it helps them gain confidence and improve their understanding of NumPy concepts.\n",
      "\n",
      "7. Collaborative Learning: The chatbot should enable users to collaborate with other users who are learning about the same topic or programming langauge. This will provide a supportive environment for students to learn from each other, build understaning, and gain confidence in their understanding of NumPy concepts.\n",
      "\n",
      "8. Solutions to Chaos: To ensure that the bot is working efficiently under high query volumes, it should have a solution mechanism to solve any potential issues or challenges during the chatbot's operation. This mechanism will allow the bot to quickly identify and resolve problems as they arise, providing seamless support for users.\n"
     ]
    }
   ],
   "source": [
    "level_2_prompt = f\"Using the initial list of features: {level1_response}, list the for detailed specifications for each feature. This should include technical requirements, potential challenges, and solutions to ensure seamless operation under high query volumes.\"\n",
    "lvl2_rsp = get_result(level_2_prompt)"
   ]
  },
  {
   "cell_type": "code",
   "execution_count": null,
   "metadata": {},
   "outputs": [],
   "source": []
  }
 ],
 "metadata": {
  "kernelspec": {
   "display_name": "Python 3 (ipykernel)",
   "language": "python",
   "name": "python3"
  },
  "language_info": {
   "codemirror_mode": {
    "name": "ipython",
    "version": 3
   },
   "file_extension": ".py",
   "mimetype": "text/x-python",
   "name": "python",
   "nbconvert_exporter": "python",
   "pygments_lexer": "ipython3",
   "version": "3.13.2"
  }
 },
 "nbformat": 4,
 "nbformat_minor": 4
}
