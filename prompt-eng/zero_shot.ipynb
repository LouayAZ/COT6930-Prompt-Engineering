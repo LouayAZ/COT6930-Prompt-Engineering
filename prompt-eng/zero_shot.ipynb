{
 "cells": [
  {
   "cell_type": "markdown",
   "metadata": {},
   "source": [
    "\n",
    "\n"
   ]
  },
  {
   "cell_type": "markdown",
   "metadata": {},
   "source": [
    "# Zero-Shot Prompting\n",
    "\n",
    "Zero-shot prompting refers to a technique in prompt engineering where you provide a model with a task without any prior examples. The model is expected to understand and generate a response or complete the task purely based on the given instruction.\n",
    "\n",
    "In other words, the model is given \"zero\" prior training examples or demonstrations in the prompt and relies on its pre-trained knowledge to infer what is needed.\n",
    "\n",
    "## References:\n",
    "* [Wei et al. (2022)](https://arxiv.org/pdf/2109.01652.pdf): demonstrate how instruction tuning improves zero-shot learning "
   ]
  },
  {
   "cell_type": "markdown",
   "metadata": {},
   "source": [
    "## Running this code on MyBind.org\n",
    "\n",
    "Note: remember that you will need to **adjust CONFIG** with **proper URL and API_KEY**!\n",
    "\n",
    "[![Binder](https://mybinder.org/badge_logo.svg)](https://mybinder.org/v2/gh/GenILab-FAU/prompt-eng/HEAD?urlpath=%2Fdoc%2Ftree%2Fprompt-eng%2Fzero_shot.ipynb)\n",
    "\n"
   ]
  },
  {
   "cell_type": "code",
   "execution_count": 2,
   "metadata": {},
   "outputs": [
    {
     "name": "stdout",
     "output_type": "stream",
     "text": [
      "{'model': 'tinyllama:latest', 'messages': [{'role': 'user', 'content': 'Consider you are developing a solution about a chatbot to assist students with questions about NumPy. Provide the requirement analysis for this solution considering the ability to handle multiple queries simultaneously.'}]}\n",
      "Here are some requirements analysis for a solution aimed at assisting students with questions about NumPy:\n",
      "\n",
      "1. User Interface - The UI should be designed in such a way that it allows users to easily navigate and interact with the system, regardless of their skill level or familiarity with NumPy. Users should be able to quickly and intuitively access relevant information without requiring extensive training.\n",
      "\n",
      "2. AI Capabilities - The system should have capabilities for analyzing and providing responses based on multiple queries simultaneously. This means that multiple users can interact with the system at once, receiving different sets of information depending on their preferences or questions.\n",
      "\n",
      "3. Knowledge Base - The knowledge base should be comprehensive and up-to-date, encompassing all aspects of NumPy and relevant topics for students. It should include concise and accurate answers to common questions while also providing more detailed explanations as needed.\n",
      "\n",
      "4. Natural Language Processing (NLP) - NLP should be used to process user input in a conversational manner. This means that the system should understand natural language syntax, grammar, and word order in order to provide meaningful and helpful responses.\n",
      "\n",
      "5. User Feedback - The system should be designed with feedback mechanisms in place for users to provide suggestions or corrections. This can include options for saving responses or providing additional context, as well as real-time updates or notifications when new information is available.\n",
      "\n",
      "6. Accessibility - The system should be designed to be accessible to a wide range of users, regardless of their abilities or experience with technology. This means that features like closed captioning or alternative text for images should be implemented appropriately and easily accessible to everyone.\n",
      "\n",
      "7. Performance - The system should have optimal performance when handling large volumes of user input and responding to queries in real-time. This can involve optimizing the indexing, storage, and processing of large datasets to minimize response times.\n",
      "Time taken: 3.776s\n"
     ]
    }
   ],
   "source": [
    "##\n",
    "## ZERO SHOT PROMPTING\n",
    "##\n",
    "\n",
    "from _pipeline import create_payload, model_req\n",
    "\n",
    "#### (1) Adjust the inbounding  Prompt, simulating inbounding requests from users or other systems\n",
    "# MESSAGE = \"What is 984 * log(2)\"\n",
    "MESSAGE = \"Consider you are developing a solution about a chatbot to assist students with questions about NumPy. Provide the requirement analysis for this solution considering the ability to handle multiple queries simultaneously.\"\n",
    "\n",
    "#### (2) Adjust the Prompt Engineering Technique to be applied, simulating Workflow Templates\n",
    "PROMPT = MESSAGE \n",
    "\n",
    "#### (3) Configure the Model request, simulating Workflow Orchestration\n",
    "# Documentation: https://github.com/ollama/ollama/blob/main/docs/api.md\n",
    "payload = create_payload(target=\"open-webui\",\n",
    "                         model=\"tinyllama\", \n",
    "                         prompt=PROMPT, \n",
    "                         temperature=1.0, \n",
    "                         num_ctx=100, \n",
    "                         num_predict=100)\n",
    "\n",
    "### YOU DONT NEED TO CONFIGURE ANYTHING ELSE FROM THIS POINT\n",
    "# Send out to the model\n",
    "time, response = model_req(payload=payload)\n",
    "print(response)\n",
    "if time: print(f'Time taken: {time}s')"
   ]
  },
  {
   "cell_type": "markdown",
   "metadata": {},
   "source": [
    "---\n",
    "\n",
    "## How to improve it?\n",
    "\n",
    "* **Use Clear and Concise Instructions**: Be specific about the task and desired format.\n",
    "    * Bad Prompt: “Summarize this.”\n",
    "    * Good Prompt: “Summarize this paragraph in one sentence.”\n",
    "* **Add Context**: Providing background can help the model interpret ambiguous prompts better.\n",
    "* **Specify Output Format**: If a particular structure is needed, describe it in the instruction."
   ]
  },
  {
   "cell_type": "code",
   "execution_count": 36,
   "metadata": {},
   "outputs": [],
   "source": [
    "def get_result(message):\n",
    "    PROMPT = message \n",
    "    \n",
    "    payload = create_payload(target=\"open-webui\",\n",
    "                             model=\"tinyllama\", \n",
    "                             prompt=PROMPT, \n",
    "                             temperature=1.0, \n",
    "                             num_ctx=100, \n",
    "                             num_predict=100)\n",
    "    \n",
    "    ### YOU DONT NEED TO CONFIGURE ANYTHING ELSE FROM THIS POINT\n",
    "    # Send out to the model\n",
    "    time, response = model_req(payload=payload)\n",
    "    print(response)"
   ]
  },
  {
   "cell_type": "code",
   "execution_count": 16,
   "metadata": {},
   "outputs": [
    {
     "name": "stdout",
     "output_type": "stream",
     "text": [
      "{'model': 'tinyllama:latest', 'messages': [{'role': 'user', 'content': 'Specify the key requirements for a NumPy chatbot that can handle multiple student queries simultaneously.'}]}\n",
      "The primary requirements for a NumPy chatbot that can handle multiple student queries simultaneously are:\n",
      "\n",
      "1. Ability to understand and interpret various types of student queries, including academic queries, personal questions, and non-academic queries.\n",
      "\n",
      "2. Capability to prioritize and respond to incoming queries based on the nature of their importance and urgency.\n",
      "\n",
      "3. Availability 24/7, 365 days a year, across different devices, and with minimal downtime.\n",
      "\n",
      "4. Integration with multiple messaging platforms (such as Slack, Microsoft Teams, WhatsApp, etc.) to provide easy accessibility to students.\n",
      "\n",
      "5. Able to handle large volumes of incoming queries with the utmost speed and efficiency by employing advanced algorithms or automated response systems.\n",
      "\n",
      "6. Efficient use of available resources like memory, CPU power, and network bandwidth.\n",
      "\n",
      "7. Ability to handle a diverse range of queries (such as academic assignments, examinations, exam schedules, course materials, etc.) with equal ease and effectiveness.\n",
      "\n",
      "8. Integration with various educational institutions' internal systems such as student management databases, grades reports, attendance reports, etc.\n",
      "\n",
      "9. The ability to provide personalized recommendations and insights based on the student's academic performance history, learning style, and other relevant factors.\n"
     ]
    }
   ],
   "source": [
    "# Change 1: Clarity and Specificity:\n",
    "MESSAGE = \"Specify the key requirements for a NumPy chatbot that can handle multiple student queries simultaneously.\"\n",
    "\n",
    "get_result(MESSAGE)"
   ]
  },
  {
   "cell_type": "code",
   "execution_count": 17,
   "metadata": {},
   "outputs": [
    {
     "name": "stdout",
     "output_type": "stream",
     "text": [
      "{'model': 'tinyllama:latest', 'messages': [{'role': 'user', 'content': 'As a chatbot developer, outline the requirements for creating a NumPy chatbot that can manage multiple inquiries at once.'}]}\n",
      "Here are the required criteria for creating a NumPy chatbot that manages multiple inquiry requests simultaneously:\n",
      "\n",
      "1. User Input: The bot should be able to prompt users for information and store it in a queue or list. It should allow for efficient handling of large datasets, as multiple queries can be submitted simultaneously.\n",
      "\n",
      "2. Inquiry Parsing: Once the user inputs their query, the bot should be able to parse it using natural language processing (NLP) techniques to extract relevant information. This information could include data from various sources such as databases or external APIs.\n",
      "\n",
      "3. Queries Processing: The bot should be able to process multiple queries simultaneously and combine them into a single response. This could involve performing calculations, generating visualizations or simply providing a summary of the results.\n",
      "\n",
      "4. User Interaction: Once the bot has processed all relevant queries, it should allow users to interact with it through natural language input. This interaction should be intuitive and easy to use, allowing users to quickly find answers to their questions.\n",
      "\n",
      "5. Error Handling: The bot should have error handling mechanisms in place to prevent incorrect or incomplete information from being processed. This could involve prompting users for additional information or simply displaying an error message.\n",
      "\n",
      "6. Testing and Maintenance: To ensure the bot is continuously improving and remains reliable, it should be tested frequently. Thebot should also be designed with proper maintenance in mind, including regular updates to address any bugs or improvements in the user interface.\n"
     ]
    }
   ],
   "source": [
    "# Change 2: Role Assignment:\n",
    "MESSAGE = \"As a chatbot developer, outline the requirements for creating a NumPy chatbot that can manage multiple inquiries at once.\"\n",
    "\n",
    "get_result(MESSAGE)"
   ]
  },
  {
   "cell_type": "code",
   "execution_count": 18,
   "metadata": {},
   "outputs": [
    {
     "name": "stdout",
     "output_type": "stream",
     "text": [
      "{'model': 'tinyllama:latest', 'messages': [{'role': 'user', 'content': 'In a university setting, what features should a NumPy chatbot have to manage multiple questions at once?'}]}\n",
      "A NumPy chatbot should have the following features to manage multiple questions at once:\n",
      "\n",
      "1. Multi-question answering: The bot can handle multiple questions at once and provide comprehensive answers.\n",
      "\n",
      "2. Interactive nature: The bot should be designed with an interactive and engaging style to keep users interested and involved in the conversation.\n",
      "\n",
      "3. Contextual knowledge: The bot should have the ability to understand and recall contextual information about the user's previous interactions, questions, and answers. This enables it to provide relevant responses based on the user's needs.\n",
      "\n",
      "4. Multi-lingual support: To cater to users with different language preferences, the chatbot can be designed in multiple languages to cater to their individual needs.\n",
      "\n",
      "5. Feedback mechanism: Users should have access to feedback mechanisms such as \"thank you\" messages or prompts that allow them to provide feedback and request further information about a particular topic.\n",
      "\n",
      "6. Personalization options: The chatbot can offer personalized recommendations based on user preferences, allowing users to learn more about their interests and needs.\n",
      "\n",
      "7. Integration with other resources: The bot should be able to integrate with other university services such as library databases or event schedules to provide a comprehensive overview of available resources.\n"
     ]
    }
   ],
   "source": [
    "# Change 3: Contextual Framing:\n",
    "MESSAGE = \"In a university setting, what features should a NumPy chatbot have to manage multiple questions at once?\"\n",
    "\n",
    "get_result(MESSAGE)"
   ]
  },
  {
   "cell_type": "code",
   "execution_count": 19,
   "metadata": {},
   "outputs": [
    {
     "name": "stdout",
     "output_type": "stream",
     "text": [
      "{'model': 'tinyllama:latest', 'messages': [{'role': 'user', 'content': 'Enumerate the features a NumPy chatbot should have to handle several student queries at the same time.'}]}\n",
      "1. Sentence-level NLP for parsing inputs into phrases and sentences: The chatbot should be able to understand and respond to multiple-choice questions, multiple choice responses, yes/no questions, and comparative statements in a clear and concise manner. It should be able to recognize phrases such as \"Can you summarize the main points of the text material?\" or \"Please summarize the information given in the text.\"\n",
      "\n",
      "2. Customizable responses: The chatbot should be able to provide customized responses that align with different user preferences and situations. This means it should be able to understand and respond accordingly to specific queries, whether they are about a particular topic or have certain characteristics such as language or tone.\n",
      "\n",
      "3. User-friendly interface: The chatbot should be easy for users to interact with, including quick navigation of the available options and prompts, as well as clear and concise language. It should also ensure that all responses are accurate, informative, and relevant to the user's question or query.\n",
      "\n",
      "4. Integration with other tools: The chatbot should be able to integrate with other data sources such as educational resources, news articles, or educational websites to provide context or further insights. It should also have the ability to search for relevant information online, and display results in a visually appealing format.\n",
      "\n",
      "5. Real-time feedback: The chatbot should be able to provide real-time feedback to users on their queries, such as suggestions for further reading or relevant educational resources. This helps to encourage engagement and promotes continuous learning.\n",
      "\n",
      "6. Interactive quizzes: The chatbot should have interactive quiz features that challenge the user's knowledge and help them learn new concepts in a fun and engaging way. For instance, it could ask multiple-choice questions about various subjects or present information in the form of trivia, riddles, or puzzles to test user comprehension.\n",
      "\n",
      "7. Social media integration: The chatbot should also have social media integrations such as Twitter and LinkedIn feeds that allow users to get updates on educational news and trends. This feature can help to keep users engaged and informed, encouraging them to take advantage of the resources available.\n"
     ]
    }
   ],
   "source": [
    "# Change 4: Enumeration:\n",
    "MESSAGE = \"Enumerate the features a NumPy chatbot should have to handle several student queries at the same time.\"\n",
    "\n",
    "\n",
    "get_result(MESSAGE)"
   ]
  },
  {
   "cell_type": "code",
   "execution_count": 20,
   "metadata": {},
   "outputs": [
    {
     "name": "stdout",
     "output_type": "stream",
     "text": [
      "{'model': 'tinyllama:latest', 'messages': [{'role': 'user', 'content': 'What challenges and solutions exist in designing a chatbot that handles multiple NumPy student interactions?'}]}\n",
      "1. User Interface: The chatbot should have a user-friendly interface to help students access their resources and get assistance when needed. A user-friendly interface with clear prompts, easy navigation, and intuitive navigation will improve the user experience for students.\n",
      "\n",
      "2. Knowledge Base: To support multiple NumPy student interactions, the chatbot should have a large and diverse knowledge base to cover common topics such as syntax, operators, functions, arrays, matrices, and other mathematical concepts.\n",
      "\n",
      "3. Real-Time Assistance: The chatbot must be capable of providing real-time assistance to students as they need it. This will help students avoid long waiting times for assistance.\n",
      "\n",
      "4. Quality Assurance: A high quality assurance process is crucial for building a reliable and user-friendly chatbot. Regular testing, monitoring, and feedback from users can identify and fix any bugs or errors.\n",
      "\n",
      "5. Responsive to Changes: To keep the chatbot up-to-date with changes in the NumPy library, it should be able to receive updates regularly. This will ensure that the knowledge base remains accurate and relevant for students' needs.\n",
      "\n",
      "6. Multi-Lingual: In a global society, there is a need for chatbots that can communicate with multiple languages. The chatbot must have the ability to understand and respond to the users in different languages.\n",
      "\n",
      "7. Collaboration: The chatbot should collaborate with other educational resources like textbooks, online courses, and peer-reviewed sources to provide comprehensive information to students. This will improve the overall student experience.\n"
     ]
    }
   ],
   "source": [
    "# Change 5: Open-Ended Prompts:\n",
    "MESSAGE = \"What challenges and solutions exist in designing a chatbot that handles multiple NumPy student interactions?\"\n",
    "\n",
    "get_result(MESSAGE)"
   ]
  },
  {
   "cell_type": "code",
   "execution_count": 21,
   "metadata": {},
   "outputs": [
    {
     "name": "stdout",
     "output_type": "stream",
     "text": [
      "{'model': 'tinyllama:latest', 'messages': [{'role': 'user', 'content': 'First, identify the primary user requirements for a NumPy chatbot. Then, explain how it can manage simultaneous queries.'}]}\n",
      "Primary User Requirements for a NumPy Chatbot:\n",
      "1. Able to process and respond to user inquiries related to NumPy (e.g., \"How does NumPy work?\", \"What are the key concepts of NumPy?\", etc.)\n",
      "2. Responds quickly, efficiently, and accurately, without any delay or buffering\n",
      "3. Ability to handle multiple simultaneous queries (i.e., Allow users to submit multiple requests at once)\n",
      "4. Provides detailed information, explanations, and examples to help users understand NumPy better\n",
      "5. Is easy to use and can be accessed through a user-friendly interface or voice command\n",
      "6. Can handle user input in various formats, including numeric, string, or dataframes (i.e., Table)\n",
      "\n",
      "How the Chatbot Manages Simultaneous Queries:\n",
      "1. The chatbot can store each query, including its details and user's interaction history to provide relevant information when needed.\n",
      "2. It continuously monitors conversations and responds as soon as a new user queries. This ensures that users are able to receive the most up-to-date information on NumPy.\n",
      "3. The chatbot can handle multiple simultaneous queries simultaneously by breaking them down into smaller parts or tasks, thereby minimizing delay in response time.\n",
      "4. By using AI-powered algorithms, it can predict user's queries and anticipate their needs, leading to faster responses.\n"
     ]
    }
   ],
   "source": [
    "# Change 6: Sequential Queries:\n",
    "MESSAGE = \"First, identify the primary user requirements for a NumPy chatbot. Then, explain how it can manage simultaneous queries.\"\n",
    "\n",
    "get_result(MESSAGE)"
   ]
  },
  {
   "cell_type": "code",
   "execution_count": 22,
   "metadata": {},
   "outputs": [
    {
     "name": "stdout",
     "output_type": "stream",
     "text": [
      "{'model': 'tinyllama:latest', 'messages': [{'role': 'user', 'content': 'Reword the necessary features for a NumPy chatbot to effectively handle multiple student queries.'}]}\n",
      "As a NumPy user, you may have different questions or concerns regarding various topics related to numerical computing. To provide effective and efficient assistance to users in this field, we've compiled some necessary features that will help the NumPy chatbot:\n",
      "\n",
      "1. Knowledge Base: The NumPy chatbot should have a comprehensive knowledge base that covers various aspects of NumPy, including its syntax and usage, data types, functions, and more. It should be able to answer questions related to these topics with appropriate responses.\n",
      "\n",
      "2. Examples & Demos: The NumPy chatbot should also provide examples and demos for different NumPy topics such as array creation, matrix operations, linear algebra, statistics, and machine learning. These demos will help users understand the concepts better and gain confidence in using NumPy.\n",
      "\n",
      "3. User-Friendly Interface: A user-friendly interface is crucial for a chatbot to effectively handle multiple student queries. The chatbot should have a simple, clear, and intuitive design that encourages users to ask questions without getting overwhelmed or confused.\n",
      "\n",
      "4. Real-Time Feedback: Real-time feedback is essential for understanding how users are responding to the chatbot. This can be achieved by providing real-time feedback via a chat window or using a notification system. The chatbot should also prompt users for additional information, feedback, or clarification when necessary.\n",
      "\n",
      "5. Error Handling: It's essential to ensure that the NumPy chatbot provides appropriate error handling for any user input. This ensures that users can easily understand and get help when encountering errors.\n",
      "\n",
      "6. Community Support: Lastly, a NumPy chatbot should have access to a robust community support system where users can ask questions or share their experiences with the NumPy library. This will provide more knowledgeable users for the chatbot to answer queries based on real-world problems.\n"
     ]
    }
   ],
   "source": [
    "# Change 7: Simple Rephrasing:\n",
    "MESSAGE = \"Reword the necessary features for a NumPy chatbot to effectively handle multiple student queries.\"\n",
    "get_result(MESSAGE)"
   ]
  },
  {
   "cell_type": "code",
   "execution_count": 25,
   "metadata": {},
   "outputs": [
    {
     "name": "stdout",
     "output_type": "stream",
     "text": [
      "{'model': 'tinyllama:latest', 'messages': [{'role': 'user', 'content': 'Highlight the most critical features needed for a chatbot to manage multiple NumPy queries simultaneously.'}]}\n",
      "A chatbot designed to manage multiple NumPy queries simultaneously needs to have:\n",
      "\n",
      "1. Robust storage and processing capabilities: The bot should have a solid database and processing system that can handle a large number of concurrent requests related to NumPy operations. The system should be able to efficiently manage the workload and handle query results in real-time.\n",
      "\n",
      "2. Advanced algorithms for parallelism: The chatbot should use advanced algorithms such as message passing, grid search, or heapsort to ensure efficient processing of queries. These algorithms can help to distribute the work across multiple CPUs or GPUs, allowing the bot to handle more queries simultaneously.\n",
      "\n",
      "3. Integration with cloud platforms: A bot designed to manage multiple NumPy queries should be able to easily integrate with cloud-based platforms that provide high levels of computing power. This integration could include using cloud services for storage, processing, and result analysis.\n",
      "\n",
      "4. Exception handling: The bot should have robust error handling mechanisms in case the system fails or any other unexpected issue occurs. Such issues may occur due to network errors, server failures, or other issues. By having an advanced exception-handling mechanism, the chatbot can continue processing queries even when faced with such challenges.\n",
      "\n",
      "5. Support for various types of NumPy functions: The bot should be able to handle a broad range of NumPy operations (e.g., indexing, matrix multiplication). This would enable the bot to handle complex and diverse queries, making it easier for users to find what they need.\n",
      "\n",
      "6. Regular maintenance and updates: A bot designed to manage multiple NumPy queries needs to be updated regularly to ensure that it continues to provide the best possible user experience. The chatbot should also be regularly maintained and updated to fix any bugs or improve its performance, keeping it relevant and useful for the users who are interacting with it.\n"
     ]
    }
   ],
   "source": [
    "# Change 8: Prioritization Cues:\n",
    "MESSAGE =  \"Highlight the most critical features needed for a chatbot to manage multiple NumPy queries simultaneously.\"\n",
    "\n",
    "get_result(MESSAGE)"
   ]
  },
  {
   "cell_type": "code",
   "execution_count": 26,
   "metadata": {},
   "outputs": [
    {
     "name": "stdout",
     "output_type": "stream",
     "text": [
      "{'model': 'tinyllama:latest', 'messages': [{'role': 'user', 'content': 'What challenges and solutions exist in designing a chatbot that handles multiple NumPy student interactions?'}]}\n",
      "There are several challenges and solutions that can be used when designing a chatbot for handling multiple interactions with students using the NumPy library. Some of these challenges and solutions include:\n",
      "\n",
      "1. Implementing a conversation flow that allows for multiple conversations to be initiated by the bot. For instance, if a student asks the bot \"Can you recommend some good Python tutorials for beginners?\" the bot can respond with multiple options, such as \"Here are some helpful resources for getting started:\", \"Here's an overview of a beginner-friendly tutorial:\", and so on.\n",
      "\n",
      "2. Providing accurate and comprehensive information to students. The bot should be able to provide relevant information about NumPy that is consistent with the students' interests or needs. For instance, if a student asks \"How do I use NumPy for machine learning?\" the bot can answer by providing information about how to set up a machine learning experiment using NumPy and other Python libraries like Pandas and SciPy.\n",
      "\n",
      "3. Providing helpful feedback and suggestions. The chatbot should provide students with helpful feedback and suggestions based on their questions or interactions. For instance, if a student asks \"Is there any way to visualize the relationships between different variables in my dataset using NumPy?\" the bot can provide guidance on how to use matplotlib to create charts and plots.\n",
      "\n",
      "4. Implementing proper communication protocols. The chatbot should be designed to communicate effectively with students. This could involve implementing messaging systems, such as Slack or Messenger, that enable quick communication between the bot and students.\n",
      "\n",
      "5. Ensuring consistency in language and tone. The chatbot should be designed with consistent language and tone across all conversations. This ensures that the bot's information is presented in a way that is easy for students to understand and engage with.\n",
      "\n",
      "6. Providing opportunities for student feedback and interaction. The bot should also provide opportunities for students to provide feedback, ask questions, and interact with the bot. This can be done through messaging or chatbots that allow students to leave comments, rate the information provided, or provide suggestions for future interactions.\n",
      "\n",
      "7. Evaluating and adjusting the bot's responses based on student needs and feedback. The chatbot should be continuously evaluated and adjusted based on student feedback to ensure that it provides accurate and relevant information. This can be done by conducting surveys or using other methods to gather data and evaluate the chatbot's performance.\n"
     ]
    }
   ],
   "source": [
    "# Change 9: Open-Ended Prompts:\n",
    "MESSAGE = \"What challenges and solutions exist in designing a chatbot that handles multiple NumPy student interactions?\"\n",
    "\n",
    "get_result(MESSAGE)"
   ]
  },
  {
   "cell_type": "code",
   "execution_count": 27,
   "metadata": {
    "scrolled": true
   },
   "outputs": [
    {
     "name": "stdout",
     "output_type": "stream",
     "text": [
      "{'model': 'tinyllama:latest', 'messages': [{'role': 'user', 'content': 'From a developer’s perspective, what are the requirements for managing multiple simultaneous NumPy queries?'}]}\n",
      "Managing multiple simultaneous NumPy queries can be challenging and requires specific procedures to prevent resource contention and potential deadlock situations. Here are some guidelines:\n",
      "\n",
      "1. Use a proper threading framework such as Twisted, Flask, or Pyramid that provides concurrency control for your application's functionality. This will help ensure that each request is handled by a separate thread, reducing the overhead of multiple simultaneous requests.\n",
      "\n",
      "2. Implement queue-based or message-passing mechanisms to coordinate the execution of multiple queries. For example, you could use a centralized message broker service such as RabbitMQ, Kafka, or Apache Camel to manage and dispatch queues among multiple worker threads.\n",
      "\n",
      "3. Use appropriate synchronization techniques to avoid deadlock situations. Deadlocks occur when two or more concurrent operations try to access the same shared resource, causing a locking conflict. Here are some common techniques:\n",
      "\n",
      "- Lock-free programming approaches such as the ReentrantLock class in Python, or the Mutex class in C#. These allow multiple threads to perform operations without competing for the same resources, preventing deadlocks.\n",
      "\n",
      "- Semaphores (also known as Countdown Lets) are a popular method for controlling resource usage in concurrent programming, ensuring that each operation gets a fair share of available resources.\n",
      "\n",
      "4. Perform profiling and analysis to identify potential bottlenecks or issues with resource usage. This can help you prioritize which queries to execute first, and improve your application's overall performance.\n",
      "\n",
      "By following these guidelines, you should be able to manage multiple simultaneous NumPy queries effectively while ensuring that each request is handled by a separate thread or queue.\n"
     ]
    }
   ],
   "source": [
    "# Change 10: Perspective Shift:\n",
    "MESSAGE = \"From a developer’s perspective, what are the requirements for managing multiple simultaneous NumPy queries?\"\n",
    "\n",
    "get_result(MESSAGE)"
   ]
  },
  {
   "cell_type": "markdown",
   "metadata": {
    "jp-MarkdownHeadingCollapsed": true
   },
   "source": [
    "## Changing Parameters"
   ]
  },
  {
   "cell_type": "code",
   "execution_count": 28,
   "metadata": {},
   "outputs": [],
   "source": [
    "def get_result_params(message, temp=1.0, num_ctx=100, num_predict=100):\n",
    "    PROMPT = message \n",
    "    \n",
    "    payload = create_payload(target=\"open-webui\",\n",
    "                             model=\"tinyllama:latest\", \n",
    "                             prompt=PROMPT, \n",
    "                             temperature=temp, \n",
    "                             num_ctx=num_ctx, \n",
    "                             num_predict=num_predict)\n",
    "    \n",
    "    ### YOU DONT NEED TO CONFIGURE ANYTHING ELSE FROM THIS POINT\n",
    "    # Send out to the model\n",
    "    time, response = model_req(payload=payload)\n",
    "    print(response)"
   ]
  },
  {
   "cell_type": "markdown",
   "metadata": {},
   "source": [
    "### temperature: \n",
    "Temperature: Controls the randomness of more creative or diverse outputs."
   ]
  },
  {
   "cell_type": "code",
   "execution_count": 35,
   "metadata": {},
   "outputs": [
    {
     "name": "stdout",
     "output_type": "stream",
     "text": [
      "{'model': 'tinyllama:latest', 'messages': [{'role': 'user', 'content': 'From a developer’s perspective, what are the requirements for managing multiple simultaneous NumPy queries?'}]}\n",
      "Here are some important requirements that can help you manage multiple simultaneous NumPy queries:\n",
      "\n",
      "1. Ensure your code is properly structured and organized: Make sure that your code is divided into separate functions or modules, each responsible for a specific task or purpose. This helps to ensure that you don't have a single function that handles multiple concurrent queries, as these can lead to performance issues and other problems.\n",
      "\n",
      "2. Choose the right back-end database: When managing multiple simultaneous NumPy queries, it's essential to select the right back-end database for your application. For instance, if you are using a NoSQL database like MongoDB or Apache Cassandra, ensure that your code handles multi-threading and parallelism capabilities efficiently.\n",
      "\n",
      "3. Use appropriate concurrency controls: When handling concurrent requests, make sure to use appropriate concurrency controls. This can help ensure that your application's performance is not negatively impacted by multiple simultaneous queries. For instance, using semaphores or mutexes can be helpful in managing different threads within a given session.\n",
      "\n",
      "4. Prioritize parallelism: In some cases, it may be essential to prioritize parallelism over concurrency. This is particularly true when you're dealing with large datasets or when your application involves complex computations that require multiple threads to execute simultaneously.\n",
      "\n",
      "5. Monitor and optimize performance: Finally, make sure to monitor and optimize the performance of your code as you go along. This includes using tools like pstats or pyhsy, which can help you identify bottlenecks in your code and fix them before they cause performance issues.\n"
     ]
    }
   ],
   "source": [
    "MESSAGE = \"From a developer’s perspective, what are the requirements for managing multiple simultaneous NumPy queries?\"\n",
    "\n",
    "get_result_params(MESSAGE, temp=0.2)"
   ]
  },
  {
   "cell_type": "code",
   "execution_count": 32,
   "metadata": {},
   "outputs": [
    {
     "name": "stdout",
     "output_type": "stream",
     "text": [
      "{'model': 'tinyllama:latest', 'messages': [{'role': 'user', 'content': 'From a developer’s perspective, what are the requirements for managing multiple simultaneous NumPy queries?'}]}\n",
      "There are several requirements that need to be followed when managing multiple simultaneous NumPy queries:\n",
      "\n",
      "1. Use of appropriate programming language (NumPy is written in Python)\n",
      "2. Ensuring that a given query does not exceed the maximum number of concurrent queries allowed by the NumPy library, or other concurrent request limitations like the server's hardware resources or network throughput.\n",
      "3. Implementing appropriate caching techniques to reduce network traffic and improve performance when multiple simultaneous queries are executed. This could involve implementing appropriate cache indexes, using efficient memory management strategies, or avoiding redundant computations in parallel.\n",
      "4. Handling exceptions and errors gracefully by recovering from any unexpected failures that occur during the processing of concurrent requests.\n",
      "5. Providing clear documentation and error messages to help users understand how their queries are being handled, and when something went wrong.\n",
      "6. Monitoring network traffic and performance metrics to identify bottlenecks or areas where more optimization could be done.\n",
      "7. Taking extra care to ensure that the queries are executed efficiently without exceeding the maximum time allowed by the operating system (for e.g., if you run your query on a single core, make sure to avoid using parallelism to optimize performance)\n"
     ]
    }
   ],
   "source": [
    "get_result_params(MESSAGE, temp=1.5)"
   ]
  },
  {
   "cell_type": "markdown",
   "metadata": {},
   "source": [
    "#### What we saw from changing temperature:\n",
    "We tried setting temperature to 0.5 and 1.5 to observe changes in output diversity and coherence.\n",
    " the model's output. A lower temperature (0.2) makes the output more deterministic and focused. \n",
    " \n",
    "Explanation: Adjusting temperature can help fine-tune the balance between creativity and precision in the model's responses."
   ]
  },
  {
   "cell_type": "code",
   "execution_count": null,
   "metadata": {},
   "outputs": [],
   "source": []
  }
 ],
 "metadata": {
  "kernelspec": {
   "display_name": "Python 3 (ipykernel)",
   "language": "python",
   "name": "python3"
  },
  "language_info": {
   "codemirror_mode": {
    "name": "ipython",
    "version": 3
   },
   "file_extension": ".py",
   "mimetype": "text/x-python",
   "name": "python",
   "nbconvert_exporter": "python",
   "pygments_lexer": "ipython3",
   "version": "3.13.2"
  }
 },
 "nbformat": 4,
 "nbformat_minor": 4
}
