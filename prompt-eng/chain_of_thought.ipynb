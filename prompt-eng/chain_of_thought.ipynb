{
 "cells": [
  {
   "cell_type": "markdown",
   "metadata": {},
   "source": [
    "\n",
    "\n"
   ]
  },
  {
   "cell_type": "markdown",
   "metadata": {},
   "source": [
    "# Chain-of-Thought Prompting\n",
    "\n",
    "Chain-of-Thought (CoT) prompting enhances complex reasoning by encouraging the model to break down problems into intermediate reasoning steps. When combined with few-shot prompting, it can significantly improve performance on tasks that require multi-step reasoning before arriving at a response.\n",
    "\n",
    "## Automatic Chain-of-Thought (Auto-CoT)\n",
    "\n",
    "Traditionally, using CoT prompting with demonstrations involves manually crafting diverse and effective examples. This manual effort is time-consuming and can lead to less-than-optimal results. To address this, Zhang et al. (2022) introduced Auto-CoT, an automated approach that minimizes manual involvement. Their method uses the prompt “Let’s think step by step” to generate reasoning chains automatically for demonstrations. However, this automatic process is not immune to errors. To reduce the impact of such mistakes, the approach emphasizes the importance of diverse demonstrations.\n",
    "\n",
    "Auto-CoT operates in two main stages:\n",
    "\n",
    "1. **Question Clustering:** Questions from the dataset are grouped into clusters based on similarity or relevance.\n",
    "2. **Demonstration Sampling:** A representative question from each cluster is selected, and its reasoning chain is generated using Zero-Shot-CoT guided by simple heuristics.\n",
    "\n",
    "\n",
    "## References:\n",
    "\n",
    "* (Wei et al. (2022),)[https://arxiv.org/abs/2201.11903]\n",
    "* (OpenAI Documentation for Prompt Engineering)[https://platform.openai.com/docs/guides/prompt-engineering]"
   ]
  },
  {
   "cell_type": "markdown",
   "metadata": {},
   "source": [
    "## Running this code on MyBind.org\n",
    "\n",
    "Note: remember that you will need to **adjust CONFIG** with **proper URL and API_KEY**!\n",
    "\n",
    "[![Binder](https://mybinder.org/badge_logo.svg)](https://mybinder.org/v2/gh/GenILab-FAU/prompt-eng/HEAD?urlpath=%2Fdoc%2Ftree%2Fprompt-eng%2Fchain_of_thought.ipynb)\n"
   ]
  },
  {
   "cell_type": "code",
   "execution_count": 11,
   "metadata": {},
   "outputs": [
    {
     "name": "stdout",
     "output_type": "stream",
     "text": [
      "{'model': 'tinyllama', 'messages': [{'role': 'user', 'content': ' \\nHere’s an example of how to think through a requirement analysis for a chatbot:\\n\\nExample:\\n\\nUnderstanding the Problem: Students struggle with complex NumPy concepts, so the chatbot must simplify explanations.\\nFunctional Requirements: The chatbot should provide explanations, code snippets, and debugging help.\\nConcurrency Handling: It must process multiple queries using asynchronous handling and load balancing.\\nScalability: Future improvements could include integrating with Jupyter Notebooks.\\nNow, using this approach, conduct a requirement analysis for a chatbot solution to assist students with their questions about NumPy step by step.\\n'}]}\n",
      "1. Understanding the Problem: \n",
      "- Provide explanation: The goal of the chatbot is to provide concise and detailed explanations for complex NumPy concepts to help students understand them better.\n",
      "\n",
      "2. Functional Requirements: \n",
      "- Simplify explanation: The chatbot must simplify the explanation for students so they can grasp the concept easily without having to read many pages of documentation.\n",
      "\n",
      "3. Concurrency Handling: \n",
      "- Use asynchronous handling: The chatbot should use asynchronous programming techniques such as asyncio or multiprocessing to handle multiple queries simultaneously, avoiding long pauses between responses.\n",
      "\n",
      "4. Scalability: \n",
      "- Future improvements: As the chatbot's usage increases, consider integrating with Jupyter Notebooks for future updates and improving performance.\n",
      "\n",
      "5. User Experience: \n",
      "- Simple design: The chatbot should be easy to use and navigate, with clear and concise instructions for each step.\n",
      "\n",
      "6. Usability: \n",
      "- Optimized user input/output: Ensure that the chatbot's responses are optimized for user input and output so they don't get confused or misinterpreted.\n",
      "Time taken: 3.299s\n"
     ]
    }
   ],
   "source": [
    "##\n",
    "## CHAIN-OF-THOUGHT  PROMPTING\n",
    "##\n",
    "\n",
    "from _pipeline import create_payload, model_req\n",
    "\n",
    "\n",
    "#### (1) Adjust the inbounding  Prompt, simulating inbounding requests from users or other systems\n",
    "MESSAGE = \"a chatbot solution to assist students with their questions about NumPy\"\n",
    "\n",
    "#### (2) Adjust the Prompt Engineering Technique to be applied, simulating Workflow Templates\n",
    "CHAIN_OF_THOUGHT = \\\n",
    "f\"\"\" \n",
    "Here’s an example of how to think through a requirement analysis for a chatbot:\n",
    "\n",
    "Example:\n",
    "\n",
    "Understanding the Problem: Students struggle with complex NumPy concepts, so the chatbot must simplify explanations.\n",
    "Functional Requirements: The chatbot should provide explanations, code snippets, and debugging help.\n",
    "Concurrency Handling: It must process multiple queries using asynchronous handling and load balancing.\n",
    "Scalability: Future improvements could include integrating with Jupyter Notebooks.\n",
    "Now, using this approach, conduct a requirement analysis for {MESSAGE} step by step.\n",
    "\"\"\"\n",
    "\n",
    "PROMPT = CHAIN_OF_THOUGHT \n",
    "\n",
    "#### (3) Configure the Model request, simulating Workflow Orchestration\n",
    "# Documentation: https://github.com/ollama/ollama/blob/main/docs/api.md\n",
    "payload = create_payload(target=\"open-webui\",\n",
    "                         model=\"tinyllama\", \n",
    "                         prompt=PROMPT, \n",
    "                         temperature=1.0, \n",
    "                         num_ctx=100, \n",
    "                         num_predict=100)\n",
    "\n",
    "### YOU DONT NEED TO CONFIGURE ANYTHING ELSE FROM THIS POINT\n",
    "# Send out to the model\n",
    "time, response = model_req(payload=payload)\n",
    "print(response)\n",
    "if time: print(f'Time taken: {time}s')"
   ]
  },
  {
   "cell_type": "markdown",
   "metadata": {},
   "source": [
    "### Test2: Explicit CoT with Progressive Questions (Step-by-Step Output)"
   ]
  },
  {
   "cell_type": "markdown",
   "metadata": {},
   "source": [
    "##### Using a tinyllama"
   ]
  },
  {
   "cell_type": "code",
   "execution_count": 14,
   "metadata": {},
   "outputs": [
    {
     "name": "stdout",
     "output_type": "stream",
     "text": [
      "{'model': 'tinyllama', 'messages': [{'role': 'user', 'content': '\\nYou are designing a chatbot solution to assist students with their questions about a specific technical subject (e.g., NumPy). To ensure a thorough requirement analysis, follow these steps:\\n\\nUnderstanding the Problem: Identify the key objectives of the chatbot. What challenges do students face when learning this subject, and how can a chatbot help?\\nFunctional Requirements: List the main capabilities the chatbot should have (e.g., answering questions, providing examples, handling complex queries).\\nNon-Functional Requirements: Identify performance, scalability, and usability aspects, including how the chatbot should handle multiple queries simultaneously.\\nConcurrency Considerations: Explain possible architectural solutions to handle simultaneous queries, such as asynchronous processing, load balancing, or caching mechanisms.\\nScalability and Future Enhancements: Suggest strategies for scaling the chatbot, adding new features, and improving accuracy over time.\\nProceed step by step, ensuring clarity in each section before moving to the next.\\n'}]}\n",
      "1. Understanding the Problem:\n",
      "   Aim of this section is to identify the key objectives of the chatbot and what challenges do students face when learning a specific technical subject. This may involve studying, taking exams, or working on projects related to the technical area. The functional requirements for the chatbot are then listed here.\n",
      "\n",
      "2. Functional Requirements:\n",
      "   This section lists the main capabilities that a chatbot should have, such as answering questions, providing examples, handling complex queries. These functional requirements ensure that the chatbot can meet the needs of students and provide them with the necessary guidance and support when learning about this technical subject.\n",
      "\n",
      "3. Non-Functional Requirements:\n",
      "   This section lists performance, scalability, and usability aspects of a chatbot. The non-functional requirements are designed to ensure that the chatbot can handle multiple queries simultaneously without causing any negative effects on user experience or performance. They may involve optimizing the chatbot's architecture for handling large amounts of data or using scalable platforms for distributed computing.\n",
      "\n",
      "4. Concurrency Considerations:\n",
      "   This section describes possible architectural solutions to handle simultaneous queries, such as asynchronous processing, load balancing, or caching mechanisms. These solutions can help the chatbot to scale over time and improve accuracy while handling multiple queries simultaneously.\n",
      "\n",
      "5. Scalability and Future Enhancement:\n",
      "   This section suggests strategies for scaling the chatbot over time. This may involve adding new features or improving accuracy by using machine learning algorithms, data analysis techniques, or natural language processing. It can also involve enhancing the chatbot's functionality to provide more personalized support or tailor it to specific user preferences and needs.\n",
      "\n",
      "6. Procedure step-by-step:\n",
      "   Once all functional requirements have been listed in the preceding sections, this section provides a detailed procedure for implementing each requirement. This may involve setting up an architecture using open-source libraries, building a chatbot using Node.js or other programming languages, and integrating it with relevant tools and platforms for managing data and running analytics. The implementation process will depend on the requirements specified in previous sections and should be carried out by trained professionals with expertise in implementing chatbots.\n",
      "Time taken: 5.949s\n"
     ]
    }
   ],
   "source": [
    "CHAIN_OF_THOUGHT = \\\n",
    "f\"\"\"\n",
    "You are designing a chatbot solution to assist students with their questions about a specific technical subject (e.g., NumPy). To ensure a thorough requirement analysis, follow these steps:\n",
    "\n",
    "Understanding the Problem: Identify the key objectives of the chatbot. What challenges do students face when learning this subject, and how can a chatbot help?\n",
    "Functional Requirements: List the main capabilities the chatbot should have (e.g., answering questions, providing examples, handling complex queries).\n",
    "Non-Functional Requirements: Identify performance, scalability, and usability aspects, including how the chatbot should handle multiple queries simultaneously.\n",
    "Concurrency Considerations: Explain possible architectural solutions to handle simultaneous queries, such as asynchronous processing, load balancing, or caching mechanisms.\n",
    "Scalability and Future Enhancements: Suggest strategies for scaling the chatbot, adding new features, and improving accuracy over time.\n",
    "Proceed step by step, ensuring clarity in each section before moving to the next.\n",
    "\"\"\"\n",
    "\n",
    "PROMPT = CHAIN_OF_THOUGHT \n",
    "\n",
    "payload = create_payload(target=\"open-webui\",\n",
    "                         model=\"tinyllama\", \n",
    "                         prompt=PROMPT, \n",
    "                         temperature=1.0, \n",
    "                         num_ctx=100, \n",
    "                         num_predict=100)\n",
    "\n",
    "\n",
    "time, response = model_req(payload=payload)\n",
    "print(response)\n",
    "if time: print(f'Time taken: {time}s')"
   ]
  },
  {
   "cell_type": "markdown",
   "metadata": {},
   "source": [
    "##### Using a different mode: Llama-3.2-3B-Instruct"
   ]
  },
  {
   "cell_type": "code",
   "execution_count": 13,
   "metadata": {},
   "outputs": [
    {
     "name": "stdout",
     "output_type": "stream",
     "text": [
      "{'model': 'Llama-3.2-3B-Instruct', 'messages': [{'role': 'user', 'content': '\\nYou are designing a chatbot solution to assist students with their questions about a specific technical subject (e.g., NumPy). To ensure a thorough requirement analysis, follow these steps:\\n\\nUnderstanding the Problem: Identify the key objectives of the chatbot. What challenges do students face when learning this subject, and how can a chatbot help?\\nFunctional Requirements: List the main capabilities the chatbot should have (e.g., answering questions, providing examples, handling complex queries).\\nNon-Functional Requirements: Identify performance, scalability, and usability aspects, including how the chatbot should handle multiple queries simultaneously.\\nConcurrency Considerations: Explain possible architectural solutions to handle simultaneous queries, such as asynchronous processing, load balancing, or caching mechanisms.\\nScalability and Future Enhancements: Suggest strategies for scaling the chatbot, adding new features, and improving accuracy over time.\\nProceed step by step, ensuring clarity in each section before moving to the next.\\n'}]}\n",
      "Let's break down the requirement analysis for the chatbot solution to assist students with their questions about NumPy.\n",
      "\n",
      "**Step 1: Understanding the Problem**\n",
      "\n",
      "The primary objective of the chatbot is to provide students with immediate assistance and guidance when learning NumPy. Key challenges that students face when learning this technical subject include:\n",
      "\n",
      "* Difficulty understanding abstract mathematical concepts and their practical applications.\n",
      "* Limited hands-on experience with NumPy, leading to frustration when trying to write code or troubleshoot issues.\n",
      "* Difficulty in understanding and interpreting the vast amount of documentation available.\n",
      "* Feeling overwhelmed by the sheer volume of questions they can encounter while studying NumPy.\n",
      "\n",
      "The chatbot should help address these challenges by:\n",
      "\n",
      "* Providing clear, concise, and accurate explanations of NumPy concepts and terminology.\n",
      "* Offering step-by-step guidance and example code to help students grasp complex concepts.\n",
      "* Assisting students in debugging and troubleshooting their code.\n",
      "* Offering personalized support and feedback to help students improve their understanding and skills.\n",
      "\n",
      "**Step 2: Functional Requirements**\n",
      "\n",
      "To achieve its objectives, the chatbot should have the following main capabilities:\n",
      "\n",
      "1. **Answering questions**: The chatbot should be able to answer questions on various NumPy topics, including syntax, functions, data types, and applications.\n",
      "2. **Providing examples**: The chatbot should be able to generate examples to illustrate complex NumPy concepts and techniques.\n",
      "3. **Handling complex queries**: The chatbot should be able to handle and respond to complex queries, including multi-part questions and queries with multiple follow-up questions.\n",
      "4. **Learning from user input**: The chatbot should be able to learn from user input and adapt its responses to better address the user's specific needs and questions.\n",
      "\n",
      "Additionally, the chatbot should have the following features:\n",
      "\n",
      "1. **Integration with external resources**: The chatbot should be able to integrate with external resources, such as online documentation and tutorials, to provide users with additional information and support.\n",
      "2. **Feedback mechanisms**: The chatbot should have mechanisms for providing feedback to users, such as rating their responses and providing suggestions for improvement.\n",
      "\n",
      "**Step 3: Non-Functional Requirements**\n",
      "\n",
      "To ensure usability, performance, and scalability, the chatbot should have the following non-functional requirements:\n",
      "\n",
      "1. **Usability**:\n",
      "\t* The chatbot should be intuitive and easy to use, with a user-friendly interface and clear navigation.\n",
      "\t* The chatbot should be able to accommodate different learning styles and preferences.\n",
      "\t* The chatbot should provide instant responses and feedback.\n",
      "2. **Performance**:\n",
      "\t* The chatbot should be able to handle multiple queries simultaneously without significant delays or downtime.\n",
      "\t* The chatbot should be able to respond quickly and accurately to user input.\n",
      "3. **Scalability**:\n",
      "\t* The chatbot should be designed to scale to meet the needs of a large user base.\n",
      "\t* The chatbot should be able to handle a high volume of queries and interactions without significant performance degradation.\n",
      "\n",
      "**Step 4: Concurrency Considerations**\n",
      "\n",
      "To handle simultaneous queries efficiently, the chatbot should consider the following concurrency solutions:\n",
      "\n",
      "1. **Asynchronous processing**: The chatbot should use asynchronous processing to handle multiple queries concurrently. This will enable the chatbot to respond to multiple users simultaneously without slowing down performance.\n",
      "2. **Load balancing**: The chatbot should use load balancing to distribute incoming queries across multiple servers. This will enable the chatbot to handle a high volume of queries without significant performance degradation.\n",
      "3. **Caching mechanisms**: The chatbot should use caching mechanisms to store frequently accessed data and reduce the load on the underlying systems.\n",
      "\n",
      "**Step 5: Scalability and Future Enhancements**\n",
      "\n",
      "To scale the chatbot, add new features, and improve accuracy over time, consider the following strategies:\n",
      "\n",
      "1. **Cloud-based infrastructure**: The chatbot should be built on a cloud-based infrastructure, which will enable easy scaling, flexibility, and reliability.\n",
      "2. **Machine learning**: The chatbot should incorporate machine learning algorithms to improve its understanding of user input and provide more accurate and personalized responses.\n",
      "3. **Community engagement**: The chatbot should encourage community engagement and user feedback to identify areas for improvement and generate new features.\n",
      "4. **Continuous integration and deployment**: The chatbot should follow continuous integration and deployment (CI/CD) practices to streamline development, testing, and deployment of new features.\n",
      "5. **Monitoring and analysis**: The chatbot should be continuously monitored and analyzed to identify performance bottlenecks, areas for improvement, and emerging trends in user behavior.\n",
      "Time taken: 7.148s\n"
     ]
    }
   ],
   "source": [
    "CHAIN_OF_THOUGHT = \\\n",
    "f\"\"\"\n",
    "You are designing a chatbot solution to assist students with their questions about a specific technical subject (e.g., NumPy). To ensure a thorough requirement analysis, follow these steps:\n",
    "\n",
    "Understanding the Problem: Identify the key objectives of the chatbot. What challenges do students face when learning this subject, and how can a chatbot help?\n",
    "Functional Requirements: List the main capabilities the chatbot should have (e.g., answering questions, providing examples, handling complex queries).\n",
    "Non-Functional Requirements: Identify performance, scalability, and usability aspects, including how the chatbot should handle multiple queries simultaneously.\n",
    "Concurrency Considerations: Explain possible architectural solutions to handle simultaneous queries, such as asynchronous processing, load balancing, or caching mechanisms.\n",
    "Scalability and Future Enhancements: Suggest strategies for scaling the chatbot, adding new features, and improving accuracy over time.\n",
    "Proceed step by step, ensuring clarity in each section before moving to the next.\n",
    "\"\"\"\n",
    "\n",
    "PROMPT = CHAIN_OF_THOUGHT \n",
    "\n",
    "payload = create_payload(target=\"open-webui\",\n",
    "                         model=\"Llama-3.2-3B-Instruct\", \n",
    "                         prompt=PROMPT, \n",
    "                         temperature=1.0, \n",
    "                         num_ctx=100, \n",
    "                         num_predict=100)\n",
    "\n",
    "\n",
    "time, response = model_req(payload=payload)\n",
    "print(response)\n",
    "if time: print(f'Time taken: {time}s')"
   ]
  },
  {
   "cell_type": "code",
   "execution_count": null,
   "metadata": {},
   "outputs": [],
   "source": [
    "# Step 1: \"What are the core challenges students face when learning NumPy, and how can a chatbot help?\"\n",
    "# Step 2: \"Based on the identified challenges, what key functionalities should the chatbot have?\"\n",
    "# Step 3: \"What performance and usability considerations are needed for handling multiple queries?\"\n",
    "# Step 4: \"How should the chatbot architecture handle concurrent requests efficiently?\"\n",
    "# Step 5: \"How can the chatbot be improved and scaled over time?\""
   ]
  },
  {
   "cell_type": "markdown",
   "metadata": {},
   "source": [
    "### Using a more complex model returns better results"
   ]
  },
  {
   "cell_type": "code",
   "execution_count": null,
   "metadata": {},
   "outputs": [],
   "source": []
  }
 ],
 "metadata": {
  "kernelspec": {
   "display_name": "Python 3 (ipykernel)",
   "language": "python",
   "name": "python3"
  },
  "language_info": {
   "codemirror_mode": {
    "name": "ipython",
    "version": 3
   },
   "file_extension": ".py",
   "mimetype": "text/x-python",
   "name": "python",
   "nbconvert_exporter": "python",
   "pygments_lexer": "ipython3",
   "version": "3.13.2"
  }
 },
 "nbformat": 4,
 "nbformat_minor": 4
}
